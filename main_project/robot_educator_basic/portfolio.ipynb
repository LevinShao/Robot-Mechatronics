{
 "cells": [
  {
   "attachments": {},
   "cell_type": "markdown",
   "metadata": {},
   "source": [
    "# **9CT1B Ctrl - Alt - Defeat Documentation Portfolio**\n",
    "\n",
    "# By Levin Shao (10/05/24)"
   ]
  },
  {
   "attachments": {},
   "cell_type": "markdown",
   "metadata": {},
   "source": [
    "### Identify the needs as a group\n",
    "\n",
    "There are many needs that will be satisfied when coding and testing our robot. The most important one being that the robot will need to work functionally and reliably when going through the final performance stage, otherwise we will result in the score of failure. Another need is that the robot should be working in the most efficient way, without the need for extra complex modifications to be added to the robot or any extra complex code, as time is very precious and should not be wasted on fancy modifications and code. The goal is that as long as it works, it wins. Another need is that the robot should not collide into the blue and green objects and must only pick up the red and yellow objects, without the red and yellow objects falling out of the border. Not only that, the robot must also send the red and yellow objects back to the base. Due to all these requirements, the measurements must be measured very precisely and the code must be written very carefully by someone with a decently high knowledge in programming robots. The robot will also need to be tested multiple times thoroughly to ensure the functionality of the robots."
   ]
  },
  {
   "attachments": {},
   "cell_type": "markdown",
   "metadata": {},
   "source": [
    "### Project direction\n",
    "Our idea is to make the robot have long prongs to be able to either have the prongs go through the block or entrap the block between the prongs to move the block to the goal and then reverse out of it to leave the block in place. We are opting to not use the light or touch sensor in our project. Initally we were going to use the Ultrasonic but due to external enviromental varibles we ended up not using this either. This allowed us to have the highest chance of getting the box into the two squares.\n",
    "### Success Criteria\n",
    "#### Functional requirements\n",
    " - Be able to move\n",
    " - Be able to turn\n",
    " - Be able to make a block move into a desired position\n",
    " - Be able to avoid touching other blocks\n",
    "#### Non-functional requirements\n",
    " - Have neat cable management\n",
    " - Have matching colour attachments.\n",
    " - Have easy acess to the buttons on the EV3 (to run the program)"
   ]
  },
  {
   "attachments": {},
   "cell_type": "markdown",
   "metadata": {},
   "source": [
    "### Pseudocode and Flowgorithm\n",
    "\n",
    "#### Pseudocode\n",
    "BEGIN\n",
    "\n",
    "set MotorSpeed 50\n",
    "\n",
    "process MoveForward 50cm\n",
    "\n",
    "process TurnRight 90 degrees\n",
    "\n",
    "process MoveForward 50cm\n",
    "\n",
    "process TurnRight 90 degrees\n",
    "\n",
    "process MoveForward 39cm\n",
    "\n",
    "process TurnRight 90 degrees\n",
    "\n",
    "process MoveForward 58cm\n",
    "\n",
    "process MoveBackward 7cm\n",
    "\n",
    "process PlaySound \"Mission completed successfully\"\n",
    "\n",
    "END"
   ]
  }
 ],
 "metadata": {
  "kernelspec": {
   "display_name": "Python 3",
   "language": "python",
   "name": "python3"
  },
  "language_info": {
   "name": "python",
   "version": "3.11.0"
  },
  "orig_nbformat": 4
 },
 "nbformat": 4,
 "nbformat_minor": 2
}
